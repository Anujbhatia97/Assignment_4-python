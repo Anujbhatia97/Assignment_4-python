{
 "cells": [
  {
   "cell_type": "code",
   "execution_count": 2,
   "id": "79ab717b",
   "metadata": {},
   "outputs": [
    {
     "data": {
      "text/plain": [
       "'[] are called square brackets. They are commonly used in formal texts or subtitles in news to clarify something. Ex: if i want to use list i will use [] like l[1,23,4,5,6,7]'"
      ]
     },
     "execution_count": 2,
     "metadata": {},
     "output_type": "execute_result"
    }
   ],
   "source": [
    "#Q1.What exactly is []?\n",
    "\"[] are called square brackets. They are commonly used in formal texts or subtitles in news to clarify something. Ex: if i want to use list i will use [] like l[1,23,4,5,6,7]\""
   ]
  },
  {
   "cell_type": "code",
   "execution_count": 5,
   "id": "84125940",
   "metadata": {},
   "outputs": [
    {
     "data": {
      "text/plain": [
       "3"
      ]
     },
     "execution_count": 5,
     "metadata": {},
     "output_type": "execute_result"
    }
   ],
   "source": [
    "#Q3. What is the value of spam[int(int('3' * 2) / 11)]?\n",
    "int(int('3' * 2) / 11)"
   ]
  },
  {
   "cell_type": "code",
   "execution_count": 6,
   "id": "1b383b86",
   "metadata": {},
   "outputs": [
    {
     "data": {
      "text/plain": [
       "[-1]"
      ]
     },
     "execution_count": 6,
     "metadata": {},
     "output_type": "execute_result"
    }
   ],
   "source": [
    "#Q4. What is the value of spam[-1]?\n",
    "[-1]"
   ]
  },
  {
   "cell_type": "code",
   "execution_count": 7,
   "id": "64999370",
   "metadata": {},
   "outputs": [
    {
     "ename": "SyntaxError",
     "evalue": "invalid syntax (Temp/ipykernel_7992/3798963799.py, line 2)",
     "output_type": "error",
     "traceback": [
      "\u001b[1;36m  File \u001b[1;32m\"C:\\Users\\HP\\AppData\\Local\\Temp/ipykernel_7992/3798963799.py\"\u001b[1;36m, line \u001b[1;32m2\u001b[0m\n\u001b[1;33m    [:2]\u001b[0m\n\u001b[1;37m     ^\u001b[0m\n\u001b[1;31mSyntaxError\u001b[0m\u001b[1;31m:\u001b[0m invalid syntax\n"
     ]
    }
   ],
   "source": [
    "#Q5. What is the value of spam[:2]?\n",
    "[:2]"
   ]
  },
  {
   "cell_type": "code",
   "execution_count": 21,
   "id": "a543ccfa",
   "metadata": {},
   "outputs": [],
   "source": [
    "#Let's pretend bacon has the list [3.14, 'cat,' 11, 'cat,' True] for the next three questions\n",
    "bacon = [3.14, 'cat', 11, 'cat', True]"
   ]
  },
  {
   "cell_type": "code",
   "execution_count": 22,
   "id": "d1c7a53d",
   "metadata": {},
   "outputs": [
    {
     "data": {
      "text/plain": [
       "1"
      ]
     },
     "execution_count": 22,
     "metadata": {},
     "output_type": "execute_result"
    }
   ],
   "source": [
    "#6. What is the value of bacon.index('cat')?\n",
    "bacon.index('cat')"
   ]
  },
  {
   "cell_type": "code",
   "execution_count": 24,
   "id": "3d22103a",
   "metadata": {},
   "outputs": [
    {
     "data": {
      "text/plain": [
       "[3.14, 'cat', 11, 'cat', True, 99]"
      ]
     },
     "execution_count": 24,
     "metadata": {},
     "output_type": "execute_result"
    }
   ],
   "source": [
    "#Q7. How does bacon.append(99) change the look of the list value in bacon?\n",
    "bacon.append(99)\n",
    "bacon"
   ]
  },
  {
   "cell_type": "code",
   "execution_count": 25,
   "id": "40df181b",
   "metadata": {},
   "outputs": [
    {
     "data": {
      "text/plain": [
       "[3.14, 11, 'cat', True, 99]"
      ]
     },
     "execution_count": 25,
     "metadata": {},
     "output_type": "execute_result"
    }
   ],
   "source": [
    "#8. How does bacon.remove('cat') change the look of the list in bacon?\n",
    "bacon.remove('cat')\n",
    "bacon"
   ]
  },
  {
   "cell_type": "code",
   "execution_count": 26,
   "id": "b3967ce2",
   "metadata": {},
   "outputs": [],
   "source": [
    "#Q9. What are the list concatenation and list replication operators?"
   ]
  },
  {
   "cell_type": "markdown",
   "id": "1090c6bb",
   "metadata": {},
   "source": [
    "#Q10. What is difference between the list methods append() and insert()?\n",
    "l.append(object,/) \"means Append object to the end of the list. \"\n",
    "l.extend(iterable,/) \"means Extend list by appending elements from the iterable.\""
   ]
  },
  {
   "cell_type": "code",
   "execution_count": 28,
   "id": "dc9da767",
   "metadata": {},
   "outputs": [
    {
     "data": {
      "text/plain": [
       "'The methods are remove(), pop() and clear(). It helps to remove the very first given element matching from the list. The pop() method removes an element from the list based on the index given. The clear() method will remove all the elements present in the list.'"
      ]
     },
     "execution_count": 28,
     "metadata": {},
     "output_type": "execute_result"
    }
   ],
   "source": [
    "#Q11. What are the two methods for removing items from a list?\n",
    "\"The methods are remove(), pop() and clear(). It helps to remove the very first given element matching from the list. The pop() method removes an element from the list based on the index given. The clear() method will remove all the elements present in the list.\""
   ]
  },
  {
   "cell_type": "code",
   "execution_count": 29,
   "id": "5690ba07",
   "metadata": {},
   "outputs": [
    {
     "data": {
      "text/plain": [
       "\"The values that make up a list are called its elements. Lists are similar to strings, which are ordered collections of characters, except that the elements of a list can have any type and for any one list, the items can be of different types. ... As we said above, the elements of a list don't have to be the same type.\""
      ]
     },
     "execution_count": 29,
     "metadata": {},
     "output_type": "execute_result"
    }
   ],
   "source": [
    "#Q12. Describe how list values and string values are identical.\n",
    "\"The values that make up a list are called its elements. Lists are similar to strings, which are ordered collections of characters, except that the elements of a list can have any type and for any one list, the items can be of different types. ... As we said above, the elements of a list don't have to be the same type.\""
   ]
  },
  {
   "cell_type": "code",
   "execution_count": 37,
   "id": "f78bc861",
   "metadata": {},
   "outputs": [
    {
     "data": {
      "text/plain": [
       "'The key difference between the tuples and lists is that while the tuples are immutable objects the lists are mutable. This means that tuples cannot be changed while the lists can be modified. Tuples are more memory efficient than the lists.'"
      ]
     },
     "execution_count": 37,
     "metadata": {},
     "output_type": "execute_result"
    }
   ],
   "source": [
    "#Q13. What's the difference between tuples and lists?\n",
    "\"The key difference between the tuples and lists is that while the tuples are immutable objects the lists are mutable. This means that tuples cannot be changed while the lists can be modified. Tuples are more memory efficient than the lists.\"\n"
   ]
  },
  {
   "cell_type": "code",
   "execution_count": 35,
   "id": "c32b98ef",
   "metadata": {},
   "outputs": [
    {
     "data": {
      "text/plain": [
       "'1. It is mutable, 2. The implication of iterations is time-consuming in the list, 3. Operations like insertion and deletion are better performed, 4.Consumes more memory, 5. Many built-in methods are available, 6.Unexpected errors and changes can easily occur in lists.'"
      ]
     },
     "execution_count": 35,
     "metadata": {},
     "output_type": "execute_result"
    }
   ],
   "source": [
    "#These are the main differnce between Tuples and list. This is for List\n",
    "\"1. It is mutable, 2. The implication of iterations is time-consuming in the list, 3. Operations like insertion and deletion are better performed, 4.Consumes more memory, 5. Many built-in methods are available, 6.Unexpected errors and changes can easily occur in lists.\""
   ]
  },
  {
   "cell_type": "code",
   "execution_count": 36,
   "id": "4d078c9e",
   "metadata": {},
   "outputs": [
    {
     "data": {
      "text/plain": [
       "'1. It is immutable, 2. Implications of iterations are much faster in tuples, 3. Elements can be accessed better , 4. Consumes less memory, 5. Does not have many built-in methods, 6. Unexpected errors and changes rarely occur in tuples.'"
      ]
     },
     "execution_count": 36,
     "metadata": {},
     "output_type": "execute_result"
    }
   ],
   "source": [
    "#This is for Tuple\n",
    "\"1. It is immutable, 2. Implications of iterations are much faster in tuples, 3. Elements can be accessed better , 4. Consumes less memory, 5. Does not have many built-in methods, 6. Unexpected errors and changes rarely occur in tuples.\""
   ]
  },
  {
   "cell_type": "code",
   "execution_count": 45,
   "id": "21dd0f04",
   "metadata": {},
   "outputs": [],
   "source": [
    "#Q15. How do you get a list value's tuple form? \n",
    "l = [1,2,3,4,56,78,8,9,1,0,1,61]"
   ]
  },
  {
   "cell_type": "code",
   "execution_count": 46,
   "id": "dbbb18a3",
   "metadata": {},
   "outputs": [
    {
     "data": {
      "text/plain": [
       "(1, 2, 3, 4, 56, 78, 8, 9, 1, 0, 1, 61)"
      ]
     },
     "execution_count": 46,
     "metadata": {},
     "output_type": "execute_result"
    }
   ],
   "source": [
    "tuple(l)"
   ]
  },
  {
   "cell_type": "code",
   "execution_count": 47,
   "id": "cf0b17a5",
   "metadata": {},
   "outputs": [],
   "source": [
    "#Q 15. How do you get a tuple value's list form?\n",
    "t = (1,2,3,4,5,6,7,8,9,1,1,161,602,16,16)"
   ]
  },
  {
   "cell_type": "code",
   "execution_count": 48,
   "id": "a53b4ba9",
   "metadata": {},
   "outputs": [
    {
     "data": {
      "text/plain": [
       "[1, 2, 3, 4, 5, 6, 7, 8, 9, 1, 1, 161, 602, 16, 16]"
      ]
     },
     "execution_count": 48,
     "metadata": {},
     "output_type": "execute_result"
    }
   ],
   "source": [
    "list(t)"
   ]
  },
  {
   "cell_type": "code",
   "execution_count": 49,
   "id": "432c21f8",
   "metadata": {},
   "outputs": [
    {
     "data": {
      "text/plain": [
       "'Variables will contain references to list values rather than list values themselves. But for strings and integer values, variables simply contain the string or integer value.'"
      ]
     },
     "execution_count": 49,
     "metadata": {},
     "output_type": "execute_result"
    }
   ],
   "source": [
    "#Q16. Variables that \"contain\" list values are not necessarily lists themselves. Instead, what do they contain?\n",
    "\"Variables will contain references to list values rather than list values themselves. But for strings and integer values, variables simply contain the string or integer value.\""
   ]
  },
  {
   "cell_type": "code",
   "execution_count": 50,
   "id": "70132ae9",
   "metadata": {},
   "outputs": [],
   "source": [
    "l = [1,2,3,4,5,6]"
   ]
  },
  {
   "cell_type": "code",
   "execution_count": 51,
   "id": "dffc7f7e",
   "metadata": {},
   "outputs": [
    {
     "data": {
      "text/plain": [
       "[1, 2, 3, 4, 5, 6]"
      ]
     },
     "execution_count": 51,
     "metadata": {},
     "output_type": "execute_result"
    }
   ],
   "source": [
    "l"
   ]
  },
  {
   "cell_type": "code",
   "execution_count": 52,
   "id": "8881eaf0",
   "metadata": {},
   "outputs": [],
   "source": [
    "l1 = [\"sdbavibvaiubiav\", (1,2,3,4,5,6,7,8)] "
   ]
  },
  {
   "cell_type": "code",
   "execution_count": 53,
   "id": "92257de3",
   "metadata": {},
   "outputs": [
    {
     "data": {
      "text/plain": [
       "['sdbavibvaiubiav', (1, 2, 3, 4, 5, 6, 7, 8)]"
      ]
     },
     "execution_count": 53,
     "metadata": {},
     "output_type": "execute_result"
    }
   ],
   "source": [
    "l1"
   ]
  },
  {
   "cell_type": "markdown",
   "id": "9bff8801",
   "metadata": {},
   "source": [
    "#Q17. How do you distinguish between copy.copy() and copy.deepcopy()?\n",
    "copy.copy() = \"Return a shallow copy of the list.\"\n",
    "copy.deepcopy() = \"A deep copy constructs a new compound object and then, recursively, inserts copies into it of the objects found in the original.\""
   ]
  }
 ],
 "metadata": {
  "kernelspec": {
   "display_name": "Python 3 (ipykernel)",
   "language": "python",
   "name": "python3"
  },
  "language_info": {
   "codemirror_mode": {
    "name": "ipython",
    "version": 3
   },
   "file_extension": ".py",
   "mimetype": "text/x-python",
   "name": "python",
   "nbconvert_exporter": "python",
   "pygments_lexer": "ipython3",
   "version": "3.9.7"
  }
 },
 "nbformat": 4,
 "nbformat_minor": 5
}
